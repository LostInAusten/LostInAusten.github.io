{
  "nbformat": 4,
  "nbformat_minor": 0,
  "metadata": {
    "colab": {
      "provenance": [],
      "include_colab_link": true
    },
    "kernelspec": {
      "name": "python3",
      "display_name": "Python 3"
    },
    "language_info": {
      "name": "python"
    }
  },
  "cells": [
    {
      "cell_type": "markdown",
      "metadata": {
        "id": "view-in-github",
        "colab_type": "text"
      },
      "source": [
        "<a href=\"https://colab.research.google.com/github/LostInAusten/LostInAusten.github.io/blob/main/Copy_of_Python_Self_Assessment.ipynb\" target=\"_parent\"><img src=\"https://colab.research.google.com/assets/colab-badge.svg\" alt=\"Open In Colab\"/></a>"
      ]
    },
    {
      "cell_type": "markdown",
      "source": [
        "# Machine Learning (ML) Python Self-Assessment\n",
        "---\n",
        "\n",
        "**DIRECTIONS:**\n",
        "Please make a copy of this Colab and answer the questions in the coding cells below. You do not need to send this to our team. This is for you to get a feel for the type of Python coding that will be used in this bootcamp.\n",
        "\n"
      ],
      "metadata": {
        "id": "QHnSAI5VpNjK"
      }
    },
    {
      "cell_type": "markdown",
      "source": [
        "##### **Question #1:** Print the statement: `The year is 2024.`"
      ],
      "metadata": {
        "id": "_9_WppzPpSLW"
      }
    },
    {
      "cell_type": "code",
      "execution_count": null,
      "metadata": {
        "id": "c2gPkPeEpMXG",
        "outputId": "190cef66-f210-4a9f-8bc7-0b0aef1e76b6",
        "colab": {
          "base_uri": "https://localhost:8080/"
        }
      },
      "outputs": [
        {
          "output_type": "stream",
          "name": "stdout",
          "text": [
            "The year is 2024\n"
          ]
        }
      ],
      "source": [
        "print(\"The year is 2024\")\n"
      ]
    },
    {
      "cell_type": "markdown",
      "source": [
        "##### **Question #2:** Print the sum of 76 and 92."
      ],
      "metadata": {
        "id": "YxGDg2m0YI40"
      }
    },
    {
      "cell_type": "code",
      "source": [
        "a = 76\n",
        "b = 92\n",
        "print(\"The sum of\",a, \"and\",b,\" is:\",a+b)\n"
      ],
      "metadata": {
        "id": "sYtfisbsYKR-",
        "outputId": "eb55cbe4-f272-4c5c-88bb-d70a30e4929a",
        "colab": {
          "base_uri": "https://localhost:8080/"
        }
      },
      "execution_count": null,
      "outputs": [
        {
          "output_type": "stream",
          "name": "stdout",
          "text": [
            "The sum of 76 and 92  is: 168\n"
          ]
        }
      ]
    },
    {
      "cell_type": "markdown",
      "source": [
        "##### **Question #3:** Create a variable called `name` and assign it to your name. Then print a statement that reads: `Welcome back, [YOUR NAME]`."
      ],
      "metadata": {
        "id": "7JlT2E21PhXA"
      }
    },
    {
      "cell_type": "code",
      "source": [
        "name = \"Sally\"\n",
        "print(\"Welcome back,\",name)\n"
      ],
      "metadata": {
        "id": "f-BBE7upPrRY",
        "outputId": "e3504e81-1f1c-4390-e605-e938def77ba1",
        "colab": {
          "base_uri": "https://localhost:8080/"
        }
      },
      "execution_count": null,
      "outputs": [
        {
          "output_type": "stream",
          "name": "stdout",
          "text": [
            "Welcome back, Sally\n"
          ]
        }
      ]
    },
    {
      "cell_type": "markdown",
      "source": [
        "##### **Question #4:** Write a function named `happy_bday` that has one parameter, `name`. If, for example, the argument for `name` is `\"Hans\"`, it prints\n",
        "```\n",
        "Happy Birthday Hans!\n",
        "```\n",
        "Call the function and wish a friend happy birthday!"
      ],
      "metadata": {
        "id": "uzzhsdkSPsoP"
      }
    },
    {
      "cell_type": "code",
      "source": [
        "def happy_bday(name):\n",
        "   print(\"Happy Birthday\", name)\n",
        "\n",
        "happy_bday(\"Ryan\")\n"
      ],
      "metadata": {
        "id": "vzCx6S2qPtcZ",
        "outputId": "98ff6662-5978-4366-8e4d-1649e0c86418",
        "colab": {
          "base_uri": "https://localhost:8080/"
        }
      },
      "execution_count": null,
      "outputs": [
        {
          "output_type": "stream",
          "name": "stdout",
          "text": [
            "Happy Birthday Ryan\n"
          ]
        }
      ]
    },
    {
      "cell_type": "markdown",
      "source": [
        "##### **Question #5:** Write a function named `how_old` that has two parameters -- `name` and `age`. If the argument for `name` is `\"Ana\"` and the argument for age is `13`, the function should print: `Ana is 13 years old. `\n",
        "\n",
        "Call the function with your name and age."
      ],
      "metadata": {
        "id": "VWlKvgiePriZ"
      }
    },
    {
      "cell_type": "code",
      "source": [
        "def how_old(name, age):\n",
        "    print(name, \"is\", age, \"years old.\")\n",
        "\n",
        "how_old(\"Sally\",55)\n"
      ],
      "metadata": {
        "id": "ipXSyAMnPsY3",
        "outputId": "a669c18c-549d-4702-e5cd-5c53a009e2e2",
        "colab": {
          "base_uri": "https://localhost:8080/"
        }
      },
      "execution_count": null,
      "outputs": [
        {
          "output_type": "stream",
          "name": "stdout",
          "text": [
            "Sally is 55 years old.\n"
          ]
        }
      ]
    },
    {
      "cell_type": "markdown",
      "source": [
        "##### **Question #6:** Create a list called `countries` with the countries: Mexico, France, and Australia."
      ],
      "metadata": {
        "id": "CDqOvL5VTgEO"
      }
    },
    {
      "cell_type": "code",
      "source": [
        "countries = [\"Mexico\", \"France\", \"Australia\"]\n",
        "print(countries)\n"
      ],
      "metadata": {
        "id": "YmXA53L0TwCQ",
        "outputId": "36238b85-01df-459c-93c6-fe60b03b4f66",
        "colab": {
          "base_uri": "https://localhost:8080/"
        }
      },
      "execution_count": null,
      "outputs": [
        {
          "output_type": "stream",
          "name": "stdout",
          "text": [
            "['Mexico', 'France', 'Australia']\n"
          ]
        }
      ]
    },
    {
      "cell_type": "markdown",
      "source": [
        "##### **Question #7:** Use indexing to print Alexus' name."
      ],
      "metadata": {
        "id": "UM3hTgUDPuBe"
      }
    },
    {
      "cell_type": "code",
      "source": [
        "family = [\"Rebecca\", \"Samuel\", \"Indiyah\", \"Alexus\"]"
      ],
      "metadata": {
        "id": "HJ4lyUanPvc3"
      },
      "execution_count": null,
      "outputs": []
    },
    {
      "cell_type": "code",
      "source": [
        "family = [\"Rebecca\", \"Samuel\", \"Indiyah\", \"Alexus\"]\n",
        "print(family[3])\n"
      ],
      "metadata": {
        "id": "48B3OyUTb9Jj",
        "outputId": "4c46d8a4-441a-404e-d9a7-352a87a66df7",
        "colab": {
          "base_uri": "https://localhost:8080/"
        }
      },
      "execution_count": null,
      "outputs": [
        {
          "output_type": "stream",
          "name": "stdout",
          "text": [
            "Alexus\n"
          ]
        }
      ]
    },
    {
      "cell_type": "markdown",
      "source": [
        "##### **Question #8:** Replace 'monkeys' with 'penguins' in the list below."
      ],
      "metadata": {
        "id": "iYxcFBquWyTO"
      }
    },
    {
      "cell_type": "code",
      "source": [
        "fav_animals = [\"giraffes\", \"walruses\", \"pandas\", \"peacocks\", \"monkeys\"]"
      ],
      "metadata": {
        "id": "6rEc4xphWzuO"
      },
      "execution_count": null,
      "outputs": []
    },
    {
      "cell_type": "code",
      "source": [
        "fav_animals = [\"giraffes\", \"walruses\", \"pandas\", \"peacocks\", \"monkeys\"]\n",
        "print(\"Original list:\",fav_animals)\n",
        "fav_animals[4] = \"penguins\"\n",
        "print(\"Updated list:\",fav_animals)\n",
        "\n"
      ],
      "metadata": {
        "id": "DWM6McJTYz5C",
        "outputId": "20d0f4dc-479c-4178-8635-1399d1332df0",
        "colab": {
          "base_uri": "https://localhost:8080/"
        }
      },
      "execution_count": null,
      "outputs": [
        {
          "output_type": "stream",
          "name": "stdout",
          "text": [
            "Original list: ['giraffes', 'walruses', 'pandas', 'peacocks', 'monkeys']\n",
            "Updated list: ['giraffes', 'walruses', 'pandas', 'peacocks', 'penguins']\n"
          ]
        }
      ]
    },
    {
      "cell_type": "markdown",
      "source": [
        "---\n",
        "© 2024 The Coding School, All rights reserved"
      ],
      "metadata": {
        "id": "40zySWM3P78Q"
      }
    }
  ]
}